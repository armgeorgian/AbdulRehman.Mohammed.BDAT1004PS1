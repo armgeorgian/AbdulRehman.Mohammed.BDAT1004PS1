{
 "cells": [
  {
   "cell_type": "markdown",
   "id": "be833faa",
   "metadata": {},
   "source": [
    "Question #1\n",
    "\n",
    "5 - int data type\n",
    "5.0 - float data type\n",
    "'5' - str data type\n"
   ]
  },
  {
   "cell_type": "code",
   "execution_count": 1,
   "id": "cbaed2c3",
   "metadata": {
    "scrolled": true
   },
   "outputs": [
    {
     "data": {
      "text/plain": [
       "10"
      ]
     },
     "execution_count": 1,
     "metadata": {},
     "output_type": "execute_result"
    }
   ],
   "source": [
    "\n",
    "5 * 2\n"
   ]
  },
  {
   "cell_type": "code",
   "execution_count": 2,
   "id": "adac6417",
   "metadata": {},
   "outputs": [
    {
     "data": {
      "text/plain": [
       "'5'"
      ]
     },
     "execution_count": 2,
     "metadata": {},
     "output_type": "execute_result"
    }
   ],
   "source": [
    "'5' # string datatype"
   ]
  },
  {
   "cell_type": "code",
   "execution_count": 3,
   "id": "3b6cdeb8",
   "metadata": {},
   "outputs": [
    {
     "data": {
      "text/plain": [
       "'55'"
      ]
     },
     "execution_count": 3,
     "metadata": {},
     "output_type": "execute_result"
    }
   ],
   "source": [
    "'5'*2 # string data type"
   ]
  },
  {
   "cell_type": "code",
   "execution_count": 4,
   "id": "e0053083",
   "metadata": {},
   "outputs": [
    {
     "data": {
      "text/plain": [
       "'52'"
      ]
     },
     "execution_count": 4,
     "metadata": {},
     "output_type": "execute_result"
    }
   ],
   "source": [
    "'5'+'2' # string data type"
   ]
  },
  {
   "cell_type": "code",
   "execution_count": 5,
   "id": "2e6b51a1",
   "metadata": {},
   "outputs": [
    {
     "data": {
      "text/plain": [
       "2.5"
      ]
     },
     "execution_count": 5,
     "metadata": {},
     "output_type": "execute_result"
    }
   ],
   "source": [
    "5/2 # float data type"
   ]
  },
  {
   "cell_type": "code",
   "execution_count": 6,
   "id": "82900563",
   "metadata": {},
   "outputs": [
    {
     "data": {
      "text/plain": [
       "{1, 2, 5}"
      ]
     },
     "execution_count": 6,
     "metadata": {},
     "output_type": "execute_result"
    }
   ],
   "source": [
    "{5,2,1} "
   ]
  },
  {
   "cell_type": "code",
   "execution_count": 7,
   "id": "038f8995",
   "metadata": {},
   "outputs": [
    {
     "data": {
      "text/plain": [
       "False"
      ]
     },
     "execution_count": 7,
     "metadata": {},
     "output_type": "execute_result"
    }
   ],
   "source": [
    "5 == 3"
   ]
  },
  {
   "cell_type": "code",
   "execution_count": 8,
   "id": "e2e8f8ac",
   "metadata": {},
   "outputs": [
    {
     "ename": "SyntaxError",
     "evalue": "invalid syntax. Perhaps you forgot a comma? (4282212958.py, line 1)",
     "output_type": "error",
     "traceback": [
      "\u001b[1;36m  Cell \u001b[1;32mIn[8], line 1\u001b[1;36m\u001b[0m\n\u001b[1;33m    Pi (the number)\u001b[0m\n\u001b[1;37m        ^\u001b[0m\n\u001b[1;31mSyntaxError\u001b[0m\u001b[1;31m:\u001b[0m invalid syntax. Perhaps you forgot a comma?\n"
     ]
    }
   ],
   "source": [
    "Pi (the number)"
   ]
  },
  {
   "cell_type": "markdown",
   "id": "36313e43",
   "metadata": {},
   "source": [
    "Question #2"
   ]
  },
  {
   "cell_type": "code",
   "execution_count": null,
   "id": "9580ff4a",
   "metadata": {},
   "outputs": [],
   "source": [
    "len ('Supercalifragilisticexpialidocious')"
   ]
  },
  {
   "cell_type": "code",
   "execution_count": null,
   "id": "3d809b3c",
   "metadata": {},
   "outputs": [],
   "source": [
    "str1 = 'Supercalifragilisticexpialidocious'\n",
    "str1.find(\"ice\")"
   ]
  },
  {
   "cell_type": "code",
   "execution_count": null,
   "id": "d3eb6a9e",
   "metadata": {},
   "outputs": [],
   "source": []
  },
  {
   "cell_type": "code",
   "execution_count": null,
   "id": "f2ae0b06",
   "metadata": {},
   "outputs": [],
   "source": [
    "# Yes, the word 'Supercalifragilisticexpialidocious' contains 'ice' in it."
   ]
  },
  {
   "cell_type": "code",
   "execution_count": null,
   "id": "90197417",
   "metadata": {},
   "outputs": [],
   "source": [
    "def find_longest_word(sentence):\n",
    "    words = sentence.split()\n",
    "    longest_word = max(words, key=len)\n",
    "    return longest_word\n",
    "\n",
    "words = \"Supercalifragilisticexpialidocious Honorificabilitudinitatibus Bababadalgharaghtakamminarronnkonn\"\n",
    "longest_word = find_longest_word(words)\n",
    "print (\"Longest Word:\", longest_word)"
   ]
  },
  {
   "cell_type": "markdown",
   "id": "8792ff8c",
   "metadata": {},
   "source": [
    "Question #3\n"
   ]
  },
  {
   "cell_type": "code",
   "execution_count": null,
   "id": "91aec816",
   "metadata": {},
   "outputs": [],
   "source": [
    "import math\n",
    "\n",
    "def triangleArea(a, b, c):\n",
    "    s = (a + b + c) / 2\n",
    "    area = math.sqrt(s * (s - a) * (s - b) * (s - c))\n",
    "    return area\n",
    "triangleArea(12,15,17)"
   ]
  },
  {
   "cell_type": "code",
   "execution_count": null,
   "id": "01a98fca",
   "metadata": {},
   "outputs": [],
   "source": [
    "Question#4"
   ]
  },
  {
   "cell_type": "code",
   "execution_count": 12,
   "id": "860f6fbe",
   "metadata": {},
   "outputs": [
    {
     "name": "stdout",
     "output_type": "stream",
     "text": [
      "Element - 0 : 1\n",
      "Element - 1 : 2\n",
      "Element - 2 : 3\n",
      "Element - 3 : 4\n",
      "Element - 4 : 5\n",
      "Even Numbers:\n",
      "2 4\n",
      "Odd Numbers:\n",
      "1 3 5\n"
     ]
    }
   ],
   "source": [
    "def separate_even_odd(numbers):\n",
    "    odd_nums = []\n",
    "    even_nums = []\n",
    "    \n",
    "    for num in numbers:\n",
    "        if num % 2 == 0:\n",
    "            even_nums.append(num)\n",
    "        else:\n",
    "            odd_nums.append(num)\n",
    "    \n",
    "    return odd_nums, even_nums\n",
    "\n",
    "# Test the program\n",
    "num_elements = 5\n",
    "\n",
    "numbers = []\n",
    "for i in range(num_elements):\n",
    "    num = int(input(f\"Element - {i} : \"))\n",
    "    numbers.append(num)\n",
    "\n",
    "odd_numbers, even_numbers = separate_odd_even(numbers)\n",
    "\n",
    "print(\"Even Numbers:\")\n",
    "print(*even_numbers, sep=\" \")\n",
    "\n",
    "print(\"Odd Numbers:\")\n",
    "print(*odd_numbers, sep=\" \")"
   ]
  },
  {
   "cell_type": "markdown",
   "id": "a8801640",
   "metadata": {},
   "source": [
    "Question #5\n"
   ]
  },
  {
   "cell_type": "code",
   "execution_count": 13,
   "id": "d913b7c0",
   "metadata": {},
   "outputs": [
    {
     "name": "stdout",
     "output_type": "stream",
     "text": [
      "Part A:\n",
      "True\n",
      "False\n",
      "\n",
      "Part B:\n",
      "False\n",
      "True\n"
     ]
    }
   ],
   "source": [
    "   def inside(x, y, x1, y1, x2, y2):\n",
    "    if (x > x1 and x < x2) and (y > y1 and y < y2):\n",
    "        return True\n",
    "    else:\n",
    "        return False\n",
    "\n",
    "print(\"Part A:\")\n",
    "print(inside(1, 1, 0, 0, 2, 3))\n",
    "print(inside(-1, -1, 0, 0, 2, 3))\n",
    "\n",
    "print(\"\\nPart B:\")\n",
    "print(inside(1, 1, 0.3, 0.5, 1.1, 0.7))\n",
    "print(inside(1, 1, 0.5, 0.3, 1.1, 2))"
   ]
  },
  {
   "cell_type": "markdown",
   "id": "a0d5312d",
   "metadata": {},
   "source": [
    "Question #6\n"
   ]
  },
  {
   "cell_type": "code",
   "execution_count": 20,
   "id": "17147dd7",
   "metadata": {},
   "outputs": [
    {
     "name": "stdout",
     "output_type": "stream",
     "text": [
      "appyhay\n",
      "encilpay\n",
      "rongway\n",
      "aterway\n"
     ]
    }
   ],
   "source": [
    "def pig(word):\n",
    "    vowels = ['a', 'e', 'i', 'o', 'u']\n",
    "    word = word.lower()  # Convert the word to lowercase\n",
    "\n",
    "    if word[0] in vowels:\n",
    "        pig_latin = word + 'way'\n",
    "    else:\n",
    "        pig_latin = word[1:] + word[0] + 'ay'\n",
    "\n",
    "    return pig_latin\n",
    "\n",
    "print(pig('happy'))\n",
    "print(pig('pencil'))\n",
    "print(pig('wrong'))\n",
    "print(pig('Water'))\n"
   ]
  },
  {
   "cell_type": "markdown",
   "id": "4797aa17",
   "metadata": {},
   "source": [
    "Question #7"
   ]
  },
  {
   "cell_type": "code",
   "execution_count": null,
   "id": "bf252395",
   "metadata": {},
   "outputs": [],
   "source": [
    "\n",
    "    \n"
   ]
  },
  {
   "cell_type": "markdown",
   "id": "b7d4c9ee",
   "metadata": {},
   "source": [
    "Question #8"
   ]
  },
  {
   "cell_type": "code",
   "execution_count": 43,
   "id": "60d7d987",
   "metadata": {},
   "outputs": [],
   "source": [
    "def curconv(currency, amount):\n",
    "    conversion_rates = {\n",
    "        'AUD': 0.8371,  # Australian Dollar to USD\n",
    "        'CNY': 0.1558,  # Chinese Yuan to USD\n",
    "        'EUR': 1.2315,  # Euro to USD\n",
    "        'GBP': 1.5683,  # British Pound to USD\n",
    "        'JPY': 0.0096,  # Japanese Yen to USD\n",
    "        'INR': 0.0163,  # Indian Rupee to USD\n",
    "        'CHF' : 1.0237414, #Swiss Franc\n",
    "        'MXN': 0.0751848, #Mexican Peso\n",
    "        'MYR' : 0.3145411, #Malaysian Ringgit\n",
    "        'NOK' : 0.1677063, #Norwegian Krone\n",
    "        'NZD' : 0.8003591, #New Zealand Dollar\n",
    "        'PHP' : 0.0233234, #Philippine Peso\n",
    "        'SEK' : 0.148269, #Swedish Krona\n",
    "        'SGD' : 0.788871, #Singapore Dollar\n",
    "        'THB' : 0.0313789, #Thai Baht\n",
    "\n",
    "\n",
    "\n",
    "        \n",
    "    }\n",
    "\n",
    "    if currency in conversion_rates:\n",
    "        usd_amount = amount * conversion_rates[currency]\n",
    "        return usd_amount\n",
    "    else:\n",
    "        return \"Currency not found\"\n",
    "    print(curconv('INR', 10000000))\n",
    "    "
   ]
  },
  {
   "cell_type": "markdown",
   "id": "294fe9d6",
   "metadata": {},
   "source": [
    "Question #9\n"
   ]
  },
  {
   "cell_type": "code",
   "execution_count": null,
   "id": "a7db394d",
   "metadata": {},
   "outputs": [],
   "source": [
    "\n",
    "   "
   ]
  },
  {
   "cell_type": "code",
   "execution_count": null,
   "id": "9a411190",
   "metadata": {},
   "outputs": [],
   "source": []
  }
 ],
 "metadata": {
  "kernelspec": {
   "display_name": "Python 3 (ipykernel)",
   "language": "python",
   "name": "python3"
  },
  "language_info": {
   "codemirror_mode": {
    "name": "ipython",
    "version": 3
   },
   "file_extension": ".py",
   "mimetype": "text/x-python",
   "name": "python",
   "nbconvert_exporter": "python",
   "pygments_lexer": "ipython3",
   "version": "3.10.9"
  }
 },
 "nbformat": 4,
 "nbformat_minor": 5
}
